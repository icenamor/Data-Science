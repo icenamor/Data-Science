{
 "cells": [
  {
   "cell_type": "markdown",
   "metadata": {},
   "source": [
    "# *Learn by doing*: Mini-proyectos para aprender computación numérica en Python\n",
    "_Del curso \"Python y Machine Learning: de 0 a 100 con Reinforcement Learning\"_ <br/>\n",
    "_Impartido por MalagaAI, [Andrés Matesanz][mate] y [Joaquín Terrasa][quim]_ <br/>\n",
    "_27 de Marzo de 2020_ <br/>\n",
    "\n",
    "<small>Capítulo anterior (Introducción a Python): https://github.com/Matesanz/C0-intro-python</small>\n",
    "\n",
    "---\n",
    "\n",
    "En este bloque, te propongo unos cuantos ejercicios de práctica y teoría para que tengas en cuenta diversos factores a la hora de crear proyectos orientados a computación numérica. **Recomiendo usar todos los enlaces y recursos** que adjunto, incluso buscar por vuestra cuenta más. Si quieres compartirlos, abajo te indicamos cómo.\n",
    "\n",
    "[quim]: https://twitter.com/josocjoq\n",
    "[mate]: https://twitter.com/AIMatesanz"
   ]
  },
  {
   "cell_type": "markdown",
   "metadata": {},
   "source": [
    "## 1: Computación numérica avanzada con `scipy`\n",
    "\n",
    "Disclaimer! Los módulos que ya hemos dado son los más usados a la hora de tratar con datos. Realmente, **[`scipy`][scipy] expande el abanico de funcionalidades, incluyendo utilidades para física, matemática, biología, ingenierías**... por lo que en muchos casos no nos hará falta. Asimismo, como [podemos ver aquí][art2], también crea una **capa de alto nivel sobre `numpy`**, de forma que facilita la comprensión y posibilidades de extensión para profesionales de otras áreas.\n",
    "\n",
    "Por ejemplo, nos puede interesar [mayores posibilidades para calcular][art] álgebra lineal, matemática simbólica (como en *Matlab Simulink*), transformadas de Fourier o integración numérica.\n",
    "\n",
    "[scipy]: https://www.scipy.org/\n",
    "[art]: https://openanalytics.es/tutorial-de-python-scipy-aprender-con-el-ejemplo/\n",
    "[art2]: https://claudiovz.github.io/scipy-lecture-notes-ES/intro/scipy.html"
   ]
  },
  {
   "cell_type": "markdown",
   "metadata": {},
   "source": [
    "## 2: Numpy vs Tensorflow: ¿Cuál es más rápido?\n",
    "\n",
    "Ojo! Este título es para *clickbait*. En resumen, podemos hacer una [comparativa entre Python puro, numpy y tensorflow][uno], pero siempre desde la perspectiva de su uso intencionado. Python existe para ser simple y conciso. Además, hay que tener en cuenta que tensorflow puede hacer uso de GPUs, mientras que numpy se limita al uso de CPU, como se puede ver en [otras comparativas, comparando el rendimiento en el cálculo exponencial][dos].\n",
    "\n",
    "Por último, otro punto a tener en cuenta es el **uso de algunas funcionalidades** en Python, como la **evaluación perezosa o los generadores** [a la hora de manejar cantidades de datos grandes][tres]. Si estás perdido en este punto 👉 revisa los apuntes del *Capitulo1* 👈.\n",
    "\n",
    "[uno]: https://realpython.com/numpy-tensorflow-performance/\n",
    "[dos]: https://simplyml.com/linear-algebra-shootout-numpy-vs-theano-vs-tensorflow-2/\n",
    "[tres]: https://towardsdatascience.com/numpy-vs-tensorflow-speed-on-matrix-calculations-9cbff6b3ce04"
   ]
  },
  {
   "cell_type": "markdown",
   "metadata": {},
   "source": [
    "## 3: El paraíso de las *cheatsheets*\n",
    "\n",
    "Una cosa **maravillosa** que tiene el mundo de la ciencia de datos es el uso de ***cheatsheets* - o chuletas**. Si te das [una vuelta por GitHub][git] corres el riesgo de caer en un pozo de sabiduría infinita.\n",
    "\n",
    "<img src=\"https://i.imgur.com/6RvzSo2.gif\"/>\n",
    "\n",
    "Te recomiendo que busques [por aquí][res1] una chuleta que se ajuste a tus necesidades, aunque yo te recomiendo algunas:\n",
    "\n",
    "+ [Álgebra lineal en 4 páginas](https://minireference.com/static/tutorials/linear_algebra_in_4_pages.pdf), fundamental para el cálculo numérico\n",
    "+ [Libreria `pandas`](http://datasciencefree.com/pandas.pdf)\n",
    "+ [numpy](https://s3.amazonaws.com/assets.datacamp.com/blog_assets/Numpy_Python_Cheat_Sheet.pdf).\n",
    "+ \n",
    "\n",
    "[git]: https://github.com/search?utf8=✓&q=cheatsheet%20data%20science\n",
    "[res1]: https://medium.com/machine-learning-in-practice/cheat-sheet-of-machine-learning-and-python-and-math-cheat-sheets-a4afe4e791b6"
   ]
  },
  {
   "cell_type": "markdown",
   "metadata": {},
   "source": [
    "### 4: Reutiliza proyectos\n",
    "\n",
    "Otra opción es re-usar proyectos ya completados en otros lenguajes, como R, JavaScript o Julia, y realizarlos en Python. Ésto requiere que sepas al menos un lenguaje extra orientado a análisis de datos.\n",
    "\n",
    "Como ejemplo, puedes rehacer [éste proyecto](https://github.com/espetro/danzabilidad). 😜😜"
   ]
  },
  {
   "cell_type": "markdown",
   "metadata": {},
   "source": [
    "---\n",
    "\n",
    "## ¿Más dudas o sugerencias?\n",
    "\n",
    "Puedes encontrarnos por\n",
    "\n",
    "+ Twitter: en @AIMalaga, @AIMatesanz (Andrés) y @josocjoq (Joaquín)\n",
    "+ Telegram: en nuestro grupo https://t.me/MalagaSchoolOfAI\n",
    "> Ojito! Este es el grupo de MálagaAI. Si perteneces a otra ciudad, quizás te interesa [encontrar tu comunidad local](https://www.spain-ai.com/). Si quieres crear una comunidad [contacta con SpainAI en Twitter](https://twitter.com/Spain_AI_).\n",
    "+ Linkedin: [Spain AI](https://www.linkedin.com/company/spainai/)\n",
    "\n",
    "---"
   ]
  },
  {
   "cell_type": "markdown",
   "metadata": {},
   "source": [
    "<p style=\"font-size:12px\">Hey! He incluido un pequeño <i>easter egg</i> en los apuntes de este capítulo (4 <i>notebooks</i>!). Os reto a encontrarlo 😏😏 y adjuntarnos una foto por Twitter a @Spain_AI_ , @AIMatesanz y @josocjoq . ¡Que comiencen los juegos!</p>\n",
    "\n",
    "<img src=\"https://i.imgur.com/0xSptOC.gif\" width=\"5%\"/>"
   ]
  },
  {
   "cell_type": "markdown",
   "metadata": {},
   "source": [
    "---\n",
    "\n",
    "Licencia: Andrés Matesanz y Joaquín Terrasa, MalagaAI [CC BY-NC 4.0](https://creativecommons.org/licenses/by-nc/4.0/) 2020\n",
    "\n",
    "<img src=\"https://upload.wikimedia.org/wikipedia/commons/thumb/a/a3/Cc.logo.circle.svg/64px-Cc.logo.circle.svg.png\" width=\"1%\"/><img src=\"https://upload.wikimedia.org/wikipedia/commons/thumb/3/3c/Cc-by_new.svg/80px-Cc-by_new.svg.png\" width=\"1%\"/><img src=\"https://upload.wikimedia.org/wikipedia/commons/thumb/d/db/Cc-nc.svg/64px-Cc-nc.svg.png\" width=\"1%\"/>"
   ]
  }
 ],
 "metadata": {
  "kernelspec": {
   "display_name": "Python 3",
   "language": "python",
   "name": "python3"
  },
  "language_info": {
   "codemirror_mode": {
    "name": "ipython",
    "version": 3
   },
   "file_extension": ".py",
   "mimetype": "text/x-python",
   "name": "python",
   "nbconvert_exporter": "python",
   "pygments_lexer": "ipython3",
   "version": "3.7.6"
  }
 },
 "nbformat": 4,
 "nbformat_minor": 4
}
