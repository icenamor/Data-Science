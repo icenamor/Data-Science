{
 "cells": [
  {
   "cell_type": "markdown",
   "metadata": {},
   "source": [
    "# Caso 1:\n",
    "_Del curso \"Python y Machine Learning: de 0 a 100 con Reinforcement Learning\"_ <br/>\n",
    "_Impartido por MalagaAI, [Andrés Matesanz][mate] y [Joaquín Terrasa][quim]_ <br/>\n",
    "_27 de Marzo de 2020_ <br/>\n",
    "\n",
    "<small>Capítulo anterior (Introducción a Python): https://github.com/Matesanz/C0-intro-python</small>\n",
    "\n",
    "[quim]: https://twitter.com/josocjoq\n",
    "[mate]: https://twitter.com/AIMatesanz"
   ]
  },
  {
   "cell_type": "markdown",
   "metadata": {},
   "source": [
    "---\n",
    "\n",
    "### Apliquemos nuestros conocimientos a estudiar el COVID-19 😱🤩\n",
    "\n",
    "Veremos el caso de España. Para Italia, los datos están [aquí](https://github.com/pcm-dpc/COVID-19).\n",
    "\n",
    "+ Datos de España *limpiados*: https://github.com/datadista/datasets/tree/master/COVID%2019\n",
    "+ Datos oficiales: https://covid19.isciii.es/resources/serie_historica_acumulados.csv (dashboard: https://covid19.isciii.es/)"
   ]
  },
  {
   "cell_type": "code",
   "execution_count": 2,
   "metadata": {},
   "outputs": [
    {
     "data": {
      "text/html": [
       "<div>\n",
       "<style scoped>\n",
       "    .dataframe tbody tr th:only-of-type {\n",
       "        vertical-align: middle;\n",
       "    }\n",
       "\n",
       "    .dataframe tbody tr th {\n",
       "        vertical-align: top;\n",
       "    }\n",
       "\n",
       "    .dataframe thead th {\n",
       "        text-align: right;\n",
       "    }\n",
       "</style>\n",
       "<table border=\"1\" class=\"dataframe\">\n",
       "  <thead>\n",
       "    <tr style=\"text-align: right;\">\n",
       "      <th></th>\n",
       "      <th>CCAA Codigo ISO</th>\n",
       "      <th>Fecha</th>\n",
       "      <th>Casos</th>\n",
       "      <th>Hospitalizados</th>\n",
       "      <th>UCI</th>\n",
       "      <th>Fallecidos</th>\n",
       "    </tr>\n",
       "  </thead>\n",
       "  <tbody>\n",
       "    <tr>\n",
       "      <th>0</th>\n",
       "      <td>AN</td>\n",
       "      <td>2020-02-20</td>\n",
       "      <td>NaN</td>\n",
       "      <td>NaN</td>\n",
       "      <td>NaN</td>\n",
       "      <td>NaN</td>\n",
       "    </tr>\n",
       "    <tr>\n",
       "      <th>1</th>\n",
       "      <td>AR</td>\n",
       "      <td>2020-02-20</td>\n",
       "      <td>NaN</td>\n",
       "      <td>NaN</td>\n",
       "      <td>NaN</td>\n",
       "      <td>NaN</td>\n",
       "    </tr>\n",
       "    <tr>\n",
       "      <th>2</th>\n",
       "      <td>AS</td>\n",
       "      <td>2020-02-20</td>\n",
       "      <td>NaN</td>\n",
       "      <td>NaN</td>\n",
       "      <td>NaN</td>\n",
       "      <td>NaN</td>\n",
       "    </tr>\n",
       "    <tr>\n",
       "      <th>3</th>\n",
       "      <td>IB</td>\n",
       "      <td>2020-02-20</td>\n",
       "      <td>1.0</td>\n",
       "      <td>NaN</td>\n",
       "      <td>NaN</td>\n",
       "      <td>NaN</td>\n",
       "    </tr>\n",
       "    <tr>\n",
       "      <th>4</th>\n",
       "      <td>CN</td>\n",
       "      <td>2020-02-20</td>\n",
       "      <td>1.0</td>\n",
       "      <td>NaN</td>\n",
       "      <td>NaN</td>\n",
       "      <td>NaN</td>\n",
       "    </tr>\n",
       "    <tr>\n",
       "      <th>...</th>\n",
       "      <td>...</td>\n",
       "      <td>...</td>\n",
       "      <td>...</td>\n",
       "      <td>...</td>\n",
       "      <td>...</td>\n",
       "      <td>...</td>\n",
       "    </tr>\n",
       "    <tr>\n",
       "      <th>661</th>\n",
       "      <td>MC</td>\n",
       "      <td>2020-03-25</td>\n",
       "      <td>596.0</td>\n",
       "      <td>172.0</td>\n",
       "      <td>36.0</td>\n",
       "      <td>8.0</td>\n",
       "    </tr>\n",
       "    <tr>\n",
       "      <th>662</th>\n",
       "      <td>NC</td>\n",
       "      <td>2020-03-25</td>\n",
       "      <td>1411.0</td>\n",
       "      <td>649.0</td>\n",
       "      <td>54.0</td>\n",
       "      <td>49.0</td>\n",
       "    </tr>\n",
       "    <tr>\n",
       "      <th>663</th>\n",
       "      <td>PV</td>\n",
       "      <td>2020-03-25</td>\n",
       "      <td>3946.0</td>\n",
       "      <td>1907.0</td>\n",
       "      <td>137.0</td>\n",
       "      <td>180.0</td>\n",
       "    </tr>\n",
       "    <tr>\n",
       "      <th>664</th>\n",
       "      <td>RI</td>\n",
       "      <td>2020-03-25</td>\n",
       "      <td>995.0</td>\n",
       "      <td>316.0</td>\n",
       "      <td>36.0</td>\n",
       "      <td>43.0</td>\n",
       "    </tr>\n",
       "    <tr>\n",
       "      <th>665</th>\n",
       "      <td>NOTA: El objetivo de los datos que se publican...</td>\n",
       "      <td>NaT</td>\n",
       "      <td>NaN</td>\n",
       "      <td>NaN</td>\n",
       "      <td>NaN</td>\n",
       "      <td>NaN</td>\n",
       "    </tr>\n",
       "  </tbody>\n",
       "</table>\n",
       "<p>666 rows × 6 columns</p>\n",
       "</div>"
      ],
      "text/plain": [
       "                                       CCAA Codigo ISO      Fecha  Casos   \\\n",
       "0                                                   AN 2020-02-20     NaN   \n",
       "1                                                   AR 2020-02-20     NaN   \n",
       "2                                                   AS 2020-02-20     NaN   \n",
       "3                                                   IB 2020-02-20     1.0   \n",
       "4                                                   CN 2020-02-20     1.0   \n",
       "..                                                 ...        ...     ...   \n",
       "661                                                 MC 2020-03-25   596.0   \n",
       "662                                                 NC 2020-03-25  1411.0   \n",
       "663                                                 PV 2020-03-25  3946.0   \n",
       "664                                                 RI 2020-03-25   995.0   \n",
       "665  NOTA: El objetivo de los datos que se publican...        NaT     NaN   \n",
       "\n",
       "     Hospitalizados    UCI  Fallecidos  \n",
       "0               NaN    NaN         NaN  \n",
       "1               NaN    NaN         NaN  \n",
       "2               NaN    NaN         NaN  \n",
       "3               NaN    NaN         NaN  \n",
       "4               NaN    NaN         NaN  \n",
       "..              ...    ...         ...  \n",
       "661           172.0   36.0         8.0  \n",
       "662           649.0   54.0        49.0  \n",
       "663          1907.0  137.0       180.0  \n",
       "664           316.0   36.0        43.0  \n",
       "665             NaN    NaN         NaN  \n",
       "\n",
       "[666 rows x 6 columns]"
      ]
     },
     "execution_count": 2,
     "metadata": {},
     "output_type": "execute_result"
    }
   ],
   "source": [
    "import pandas as pd\n",
    "\n",
    "df = pd.read_excel(\"./serie_historica_acumulados.xlsx\")\n",
    "df"
   ]
  },
  {
   "cell_type": "code",
   "execution_count": 3,
   "metadata": {},
   "outputs": [
    {
     "data": {
      "text/plain": [
       "Index(['CCAA Codigo ISO', 'Fecha', 'Casos ', 'Hospitalizados', 'UCI',\n",
       "       'Fallecidos'],\n",
       "      dtype='object')"
      ]
     },
     "execution_count": 3,
     "metadata": {},
     "output_type": "execute_result"
    }
   ],
   "source": [
    "df.columns"
   ]
  },
  {
   "cell_type": "code",
   "execution_count": 50,
   "metadata": {},
   "outputs": [],
   "source": [
    "df = df.drop([665])"
   ]
  },
  {
   "cell_type": "markdown",
   "metadata": {},
   "source": [
    "---\n",
    "\n",
    "<div hidden><img src=\"https://i.imgur.com/9YyVSB2.jpg\" width=\"60%\"/></div>\n",
    "\n",
    "Vamos a visualizar el **impacto del coronavirus en cada CCAA** teniendo en cuenta otros factores, como el ratio de habitantes por CCAA o la riqueza media. Para ello, antes necesitamos un mapa de España:\n",
    "\n",
    "https://github.com/deldersveld/topojson/#spain\n",
    "\n",
    "https://geographica.carto.com/u/alasarr/tables/spain_regions/public (esta no la consideramos)"
   ]
  },
  {
   "cell_type": "code",
   "execution_count": 6,
   "metadata": {},
   "outputs": [
    {
     "data": {
      "text/plain": [
       "dict_keys(['type', 'transform', 'arcs', 'objects'])"
      ]
     },
     "execution_count": 6,
     "metadata": {},
     "output_type": "execute_result"
    }
   ],
   "source": [
    "from urllib.request import urlopen\n",
    "import json\n",
    "\n",
    "with urlopen(\"https://raw.githubusercontent.com/deldersveld/topojson/master/countries/spain/spain-comunidad-with-canary-islands.json\") as response:\n",
    "    ccaa = json.load(response)\n",
    "\n",
    "ccaa.keys()"
   ]
  },
  {
   "cell_type": "code",
   "execution_count": 43,
   "metadata": {},
   "outputs": [
    {
     "name": "stdout",
     "output_type": "stream",
     "text": [
      "[('Andalucía', 'ES.AN', 935), ('Aragón', 'ES.AR', 936), ('Cantabria', 'ES.CB', 937), ('Castilla y León', 'ES.CL', 938), ('Castilla-La Mancha', 'ES.CM', 939), ('Cataluña', 'ES.CT', 940), ('Ceuta y Melilla', 'ES.CE', 941), ('Comunidad de Madrid', 'ES.MD', 942), ('Comunidad Foral de Navarra', 'ES.NA', 943), ('Comunidad Valenciana', 'ES.VC', 944), ('Extremadura', 'ES.EX', 945), ('Galicia', 'ES.GA', 946), ('Islas Baleares', 'ES.PM', 947), ('Islas Canarias', 'ES.CN', 948), ('La Rioja', 'ES.LO', 949), ('País Vasco', 'ES.PV', 950), ('Principado de Asturias', 'ES.AS', 951), ('Región de Murcia', 'ES.MU', 952)]\n"
     ]
    },
    {
     "data": {
      "text/plain": [
       "18"
      ]
     },
     "execution_count": 43,
     "metadata": {},
     "output_type": "execute_result"
    }
   ],
   "source": [
    "_ = [(obj[\"properties\"][\"NAME_1\"], obj.get(\"properties\").get(\"HASC_1\"), obj.get(\"properties\").get(\"ID_1\")) for obj in ccaa[\"objects\"][\"ESP_adm1\"][\"geometries\"]]\n",
    "print(_)\n",
    "len(_)"
   ]
  },
  {
   "cell_type": "markdown",
   "metadata": {},
   "source": [
    "---\n",
    "\n",
    "Como vemos, en el mapa las comunidades usan el código ISO modificado (`ES.<ISO-CCAA>`), mientras que los datos del COVID19 usan solo el código ISO:"
   ]
  },
  {
   "cell_type": "code",
   "execution_count": 45,
   "metadata": {},
   "outputs": [
    {
     "data": {
      "text/plain": [
       "0    AN\n",
       "1    AR\n",
       "2    AS\n",
       "Name: CCAA Codigo ISO, dtype: object"
      ]
     },
     "execution_count": 45,
     "metadata": {},
     "output_type": "execute_result"
    }
   ],
   "source": [
    "df[\"CCAA Codigo ISO\"].head(3)"
   ]
  },
  {
   "cell_type": "code",
   "execution_count": 46,
   "metadata": {},
   "outputs": [
    {
     "data": {
      "text/plain": [
       "0    ES.AN\n",
       "1    ES.AR\n",
       "2    ES.AS\n",
       "Name: CCAA Codigo ISO, dtype: object"
      ]
     },
     "execution_count": 46,
     "metadata": {},
     "output_type": "execute_result"
    }
   ],
   "source": [
    "df[\"CCAA Codigo ISO\"] = df[\"CCAA Codigo ISO\"].apply(lambda iso: f\"ES.{iso}\")\n",
    "df[\"CCAA Codigo ISO\"].head(3)"
   ]
  },
  {
   "cell_type": "markdown",
   "metadata": {},
   "source": [
    "Hay que comprobar el nº de CCAA en los datos del COVID19:"
   ]
  },
  {
   "cell_type": "code",
   "execution_count": 63,
   "metadata": {},
   "outputs": [
    {
     "name": "stdout",
     "output_type": "stream",
     "text": [
      "Codigos ISO (datos): (19) ['ES.AN', 'ES.AR', 'ES.AS', 'ES.CB', 'ES.CE', 'ES.CL', 'ES.CM', 'ES.CN', 'ES.CT', 'ES.EX', 'ES.GA', 'ES.IB', 'ES.MC', 'ES.MD', 'ES.ME', 'ES.NC', 'ES.PV', 'ES.RI', 'ES.VC']\n"
     ]
    }
   ],
   "source": [
    "unique_ccaa_data = list(pd.unique(df[\"CCAA Codigo ISO\"]))\n",
    "unique_ccaa_data.sort()\n",
    "\n",
    "print(f\"Codigos ISO (datos): ({len(unique_ccaa_data)}) {unique_ccaa_data}\")"
   ]
  },
  {
   "cell_type": "code",
   "execution_count": 64,
   "metadata": {},
   "outputs": [
    {
     "name": "stdout",
     "output_type": "stream",
     "text": [
      "Codigos ISO (mapa): (18) ['ES.AN', 'ES.AR', 'ES.AS', 'ES.CB', 'ES.CE', 'ES.CL', 'ES.CM', 'ES.CN', 'ES.CT', 'ES.EX', 'ES.GA', 'ES.LO', 'ES.MD', 'ES.MU', 'ES.NA', 'ES.PM', 'ES.PV', 'ES.VC'])\n"
     ]
    }
   ],
   "source": [
    "unique_ccaa_mapa = [elem[1] for elem in _]\n",
    "unique_ccaa_mapa.sort()\n",
    "print(f\"Codigos ISO (mapa): ({len(unique_ccaa_mapa)}) {unique_ccaa_mapa})\")"
   ]
  },
  {
   "cell_type": "markdown",
   "metadata": {},
   "source": [
    "[<img src=\"https://i.imgur.com/4CpleoU.png\" width=\"20%\"/><br/><img src=\"https://i.imgur.com/Cih1Lkp.png\" width=\"16%\"/>](https://es.wikipedia.org/wiki/ISO_3166-2:ES)\n",
    "\n",
    "Por lo tanto, hay que cambiar varios datos ISO del COVID19 (es más facil que cambiar el mapa 😂):\n",
    "\n",
    "+ Unir las ciudades autónomas de Ceuta (`ES.CE`) y Melilla (`ES.ME`) en el del mapa (`ES.CE`).\n",
    "+ Cambiar el ISO de Islas Baleares en los datos (ES.IB) al del mapa (ES.PM).\n",
    "+ Cambiar el ISO de La Rioja en los datos (ES.RI) al del mapa (ES.LR).\n",
    "+ Cambiar el ISO de Murcia en los datos (ES.MC) al del mapa (ES.MU).\n",
    "+ Cambiar el ISO de Navarra en los datos (ES.NC) al del mapa (ES.NA)."
   ]
  },
  {
   "cell_type": "code",
   "execution_count": 65,
   "metadata": {},
   "outputs": [
    {
     "data": {
      "text/html": [
       "<div>\n",
       "<style scoped>\n",
       "    .dataframe tbody tr th:only-of-type {\n",
       "        vertical-align: middle;\n",
       "    }\n",
       "\n",
       "    .dataframe tbody tr th {\n",
       "        vertical-align: top;\n",
       "    }\n",
       "\n",
       "    .dataframe thead th {\n",
       "        text-align: right;\n",
       "    }\n",
       "</style>\n",
       "<table border=\"1\" class=\"dataframe\">\n",
       "  <thead>\n",
       "    <tr style=\"text-align: right;\">\n",
       "      <th></th>\n",
       "      <th>CCAA Codigo ISO</th>\n",
       "      <th>Fecha</th>\n",
       "      <th>Casos</th>\n",
       "      <th>Hospitalizados</th>\n",
       "      <th>UCI</th>\n",
       "      <th>Fallecidos</th>\n",
       "    </tr>\n",
       "  </thead>\n",
       "  <tbody>\n",
       "    <tr>\n",
       "      <th>0</th>\n",
       "      <td>ES.AN</td>\n",
       "      <td>2020-02-20</td>\n",
       "      <td>NaN</td>\n",
       "      <td>NaN</td>\n",
       "      <td>NaN</td>\n",
       "      <td>NaN</td>\n",
       "    </tr>\n",
       "    <tr>\n",
       "      <th>1</th>\n",
       "      <td>ES.AR</td>\n",
       "      <td>2020-02-20</td>\n",
       "      <td>NaN</td>\n",
       "      <td>NaN</td>\n",
       "      <td>NaN</td>\n",
       "      <td>NaN</td>\n",
       "    </tr>\n",
       "    <tr>\n",
       "      <th>2</th>\n",
       "      <td>ES.AS</td>\n",
       "      <td>2020-02-20</td>\n",
       "      <td>NaN</td>\n",
       "      <td>NaN</td>\n",
       "      <td>NaN</td>\n",
       "      <td>NaN</td>\n",
       "    </tr>\n",
       "  </tbody>\n",
       "</table>\n",
       "</div>"
      ],
      "text/plain": [
       "  CCAA Codigo ISO      Fecha  Casos   Hospitalizados  UCI  Fallecidos\n",
       "0           ES.AN 2020-02-20     NaN             NaN  NaN         NaN\n",
       "1           ES.AR 2020-02-20     NaN             NaN  NaN         NaN\n",
       "2           ES.AS 2020-02-20     NaN             NaN  NaN         NaN"
      ]
     },
     "execution_count": 65,
     "metadata": {},
     "output_type": "execute_result"
    }
   ],
   "source": [
    "def renombrar_codigos_iso(codigo_iso):\n",
    "    \"\"\"\"\"\"\n",
    "    return {\n",
    "        \"ES.NC\": \"ES.NA\",\n",
    "        \"ES.MC\": \"ES.MU\",\n",
    "        \"ES.RI\": \"ES.LR\",\n",
    "        \"ES.IB\": \"ES.PM\",\n",
    "        \"ES.ME\": \"ES.CE\"\n",
    "    }.get(codigo_iso, codigo_iso)\n",
    "\n",
    "df[\"CCAA Codigo ISO\"] = df[\"CCAA Codigo ISO\"].apply(renombrar_codigos_iso)\n",
    "\n",
    "# tenemos que recordar que, a la hora de extraer los casos por dia y por comunidad, en \"Ceuta y Melilla\" obtendremos 2 - por lo que hay que sumar!"
   ]
  },
  {
   "cell_type": "code",
   "execution_count": 66,
   "metadata": {},
   "outputs": [
    {
     "name": "stdout",
     "output_type": "stream",
     "text": [
      "Codigos ISO (datos): (18) ['ES.AN', 'ES.AR', 'ES.AS', 'ES.CB', 'ES.CE', 'ES.CL', 'ES.CM', 'ES.CN', 'ES.CT', 'ES.EX', 'ES.GA', 'ES.LR', 'ES.MD', 'ES.MU', 'ES.NA', 'ES.PM', 'ES.PV', 'ES.VC']\n"
     ]
    }
   ],
   "source": [
    "unique_ccaa_data = list(pd.unique(df[\"CCAA Codigo ISO\"]))\n",
    "unique_ccaa_data.sort()\n",
    "\n",
    "print(f\"Codigos ISO (datos): ({len(unique_ccaa_data)}) {unique_ccaa_data}\")"
   ]
  },
  {
   "cell_type": "markdown",
   "metadata": {},
   "source": [
    "---\n",
    "\n",
    "Por otra parte, necesitamos los datos del censo más recientes:\n",
    "\n",
    "https://www.ine.es/jaxiT3/Tabla.htm?t=2915&L=0\n",
    "\n",
    "Ojo! Fíjate que aquí también se subdividen en 19 CCAA. Ten en cuenta que al incluir acentuaciones, normalmente no usan codificación `UTF-8` 😪😪"
   ]
  },
  {
   "cell_type": "code",
   "execution_count": 68,
   "metadata": {},
   "outputs": [
    {
     "data": {
      "text/html": [
       "<div>\n",
       "<style scoped>\n",
       "    .dataframe tbody tr th:only-of-type {\n",
       "        vertical-align: middle;\n",
       "    }\n",
       "\n",
       "    .dataframe tbody tr th {\n",
       "        vertical-align: top;\n",
       "    }\n",
       "\n",
       "    .dataframe thead th {\n",
       "        text-align: right;\n",
       "    }\n",
       "</style>\n",
       "<table border=\"1\" class=\"dataframe\">\n",
       "  <thead>\n",
       "    <tr style=\"text-align: right;\">\n",
       "      <th></th>\n",
       "      <th>Comunidades y Ciudades Autónomas</th>\n",
       "      <th>Tamaño de los municipios</th>\n",
       "      <th>Periodo</th>\n",
       "      <th>Total</th>\n",
       "    </tr>\n",
       "  </thead>\n",
       "  <tbody>\n",
       "    <tr>\n",
       "      <th>0</th>\n",
       "      <td>01 Andalucía</td>\n",
       "      <td>Total</td>\n",
       "      <td>2019</td>\n",
       "      <td>8.414.240</td>\n",
       "    </tr>\n",
       "    <tr>\n",
       "      <th>1</th>\n",
       "      <td>02 Aragón</td>\n",
       "      <td>Total</td>\n",
       "      <td>2019</td>\n",
       "      <td>1.319.291</td>\n",
       "    </tr>\n",
       "    <tr>\n",
       "      <th>2</th>\n",
       "      <td>03 Asturias, Principado de</td>\n",
       "      <td>Total</td>\n",
       "      <td>2019</td>\n",
       "      <td>1.022.800</td>\n",
       "    </tr>\n",
       "  </tbody>\n",
       "</table>\n",
       "</div>"
      ],
      "text/plain": [
       "  Comunidades y Ciudades Autónomas Tamaño de los municipios  Periodo  \\\n",
       "0                     01 Andalucía                    Total     2019   \n",
       "1                        02 Aragón                    Total     2019   \n",
       "2       03 Asturias, Principado de                    Total     2019   \n",
       "\n",
       "       Total  \n",
       "0  8.414.240  \n",
       "1  1.319.291  \n",
       "2  1.022.800  "
      ]
     },
     "execution_count": 68,
     "metadata": {},
     "output_type": "execute_result"
    }
   ],
   "source": [
    "censo = pd.read_csv(\"censo_2019.csv\", sep=\";\", encoding='iso-8859-1')\n",
    "censo.head(3)"
   ]
  },
  {
   "cell_type": "code",
   "execution_count": 77,
   "metadata": {
    "collapsed": true,
    "jupyter": {
     "outputs_hidden": true
    }
   },
   "outputs": [
    {
     "data": {
      "text/plain": [
       "['01 Andalucía',\n",
       " '02 Aragón',\n",
       " '03 Asturias, Principado de',\n",
       " '04 Balears, Illes',\n",
       " '05 Canarias',\n",
       " '06 Cantabria',\n",
       " '07 Castilla y León',\n",
       " '08 Castilla - La Mancha',\n",
       " '09 Cataluña',\n",
       " '10 Comunitat Valenciana',\n",
       " '11 Extremadura',\n",
       " '12 Galicia',\n",
       " '13 Madrid, Comunidad de',\n",
       " '14 Murcia, Región de',\n",
       " '15 Navarra, Comunidad Foral de',\n",
       " '16 País Vasco',\n",
       " '17 Rioja, La',\n",
       " '18 Ceuta',\n",
       " '19 Melilla']"
      ]
     },
     "execution_count": 77,
     "metadata": {},
     "output_type": "execute_result"
    }
   ],
   "source": [
    "list(censo[censo.columns[0]])"
   ]
  },
  {
   "cell_type": "markdown",
   "metadata": {},
   "source": [
    "Tip: es más facil cambiarlo usando *Excel* o algun programa similar"
   ]
  },
  {
   "cell_type": "code",
   "execution_count": 81,
   "metadata": {},
   "outputs": [],
   "source": [
    "def obtener_codigos_iso(ccaa):\n",
    "    \"\"\"\"\"\"\n",
    "    return {\n",
    "        \"01 Andalucía\": 'ES.AN',\n",
    "        \"02 Aragón\": 'ES.AR',\n",
    "        '03 Asturias, Principado de': 'ES.AS',\n",
    "        '04 Balears, Illes': 'ES.PM',\n",
    "        '05 Canarias': 'ES.CN',\n",
    "        '06 Cantabria': 'ES.CB',\n",
    "        '07 Castilla y León': 'ES.CL',\n",
    "        '08 Castilla - La Mancha': 'ES.CM',\n",
    "        '09 Cataluña': 'ES.CT',\n",
    "        '10 Comunitat Valenciana': 'ES.VC',\n",
    "        '11 Extremadura': 'ES.EX',\n",
    "        '12 Galicia': 'ES.GA',\n",
    "        '13 Madrid, Comunidad de': 'ES.MD',\n",
    "        '14 Murcia, Región de': 'ES.MU',\n",
    "        '15 Navarra, Comunidad Foral de': 'ES.NA',\n",
    "        '16 País Vasco': 'ES.PV',\n",
    "        '17 Rioja, La': 'ES.LR',\n",
    "        '18 Ceuta': 'ES.CE',\n",
    "        '19 Melilla': 'ES.CE'\n",
    "    }.get(ccaa)"
   ]
  },
  {
   "cell_type": "code",
   "execution_count": 82,
   "metadata": {},
   "outputs": [],
   "source": [
    "censo[\"iso\"] = censo[censo.columns[0]].apply(obtener_codigos_iso)"
   ]
  },
  {
   "cell_type": "code",
   "execution_count": 97,
   "metadata": {
    "collapsed": true,
    "jupyter": {
     "outputs_hidden": true
    }
   },
   "outputs": [
    {
     "data": {
      "text/html": [
       "<div>\n",
       "<style scoped>\n",
       "    .dataframe tbody tr th:only-of-type {\n",
       "        vertical-align: middle;\n",
       "    }\n",
       "\n",
       "    .dataframe tbody tr th {\n",
       "        vertical-align: top;\n",
       "    }\n",
       "\n",
       "    .dataframe thead th {\n",
       "        text-align: right;\n",
       "    }\n",
       "</style>\n",
       "<table border=\"1\" class=\"dataframe\">\n",
       "  <thead>\n",
       "    <tr style=\"text-align: right;\">\n",
       "      <th></th>\n",
       "      <th>iso</th>\n",
       "      <th>Total</th>\n",
       "    </tr>\n",
       "  </thead>\n",
       "  <tbody>\n",
       "    <tr>\n",
       "      <th>0</th>\n",
       "      <td>ES.AN</td>\n",
       "      <td>8.414.240</td>\n",
       "    </tr>\n",
       "    <tr>\n",
       "      <th>1</th>\n",
       "      <td>ES.AR</td>\n",
       "      <td>1.319.291</td>\n",
       "    </tr>\n",
       "    <tr>\n",
       "      <th>2</th>\n",
       "      <td>ES.AS</td>\n",
       "      <td>1.022.800</td>\n",
       "    </tr>\n",
       "    <tr>\n",
       "      <th>3</th>\n",
       "      <td>ES.PM</td>\n",
       "      <td>1.149.460</td>\n",
       "    </tr>\n",
       "    <tr>\n",
       "      <th>4</th>\n",
       "      <td>ES.CN</td>\n",
       "      <td>2.153.389</td>\n",
       "    </tr>\n",
       "    <tr>\n",
       "      <th>5</th>\n",
       "      <td>ES.CB</td>\n",
       "      <td>581.078</td>\n",
       "    </tr>\n",
       "    <tr>\n",
       "      <th>6</th>\n",
       "      <td>ES.CL</td>\n",
       "      <td>2.399.548</td>\n",
       "    </tr>\n",
       "    <tr>\n",
       "      <th>7</th>\n",
       "      <td>ES.CM</td>\n",
       "      <td>2.032.863</td>\n",
       "    </tr>\n",
       "    <tr>\n",
       "      <th>8</th>\n",
       "      <td>ES.CT</td>\n",
       "      <td>7.675.217</td>\n",
       "    </tr>\n",
       "    <tr>\n",
       "      <th>9</th>\n",
       "      <td>ES.VC</td>\n",
       "      <td>5.003.769</td>\n",
       "    </tr>\n",
       "    <tr>\n",
       "      <th>10</th>\n",
       "      <td>ES.EX</td>\n",
       "      <td>1.067.710</td>\n",
       "    </tr>\n",
       "    <tr>\n",
       "      <th>11</th>\n",
       "      <td>ES.GA</td>\n",
       "      <td>2.699.499</td>\n",
       "    </tr>\n",
       "    <tr>\n",
       "      <th>12</th>\n",
       "      <td>ES.MD</td>\n",
       "      <td>6.663.394</td>\n",
       "    </tr>\n",
       "    <tr>\n",
       "      <th>13</th>\n",
       "      <td>ES.MU</td>\n",
       "      <td>1.493.898</td>\n",
       "    </tr>\n",
       "    <tr>\n",
       "      <th>14</th>\n",
       "      <td>ES.NA</td>\n",
       "      <td>654.214</td>\n",
       "    </tr>\n",
       "    <tr>\n",
       "      <th>15</th>\n",
       "      <td>ES.PV</td>\n",
       "      <td>2.207.776</td>\n",
       "    </tr>\n",
       "    <tr>\n",
       "      <th>16</th>\n",
       "      <td>ES.LR</td>\n",
       "      <td>316.798</td>\n",
       "    </tr>\n",
       "    <tr>\n",
       "      <th>17</th>\n",
       "      <td>ES.CE</td>\n",
       "      <td>84.777</td>\n",
       "    </tr>\n",
       "    <tr>\n",
       "      <th>18</th>\n",
       "      <td>ES.CE</td>\n",
       "      <td>86.487</td>\n",
       "    </tr>\n",
       "  </tbody>\n",
       "</table>\n",
       "</div>"
      ],
      "text/plain": [
       "      iso      Total\n",
       "0   ES.AN  8.414.240\n",
       "1   ES.AR  1.319.291\n",
       "2   ES.AS  1.022.800\n",
       "3   ES.PM  1.149.460\n",
       "4   ES.CN  2.153.389\n",
       "5   ES.CB    581.078\n",
       "6   ES.CL  2.399.548\n",
       "7   ES.CM  2.032.863\n",
       "8   ES.CT  7.675.217\n",
       "9   ES.VC  5.003.769\n",
       "10  ES.EX  1.067.710\n",
       "11  ES.GA  2.699.499\n",
       "12  ES.MD  6.663.394\n",
       "13  ES.MU  1.493.898\n",
       "14  ES.NA    654.214\n",
       "15  ES.PV  2.207.776\n",
       "16  ES.LR    316.798\n",
       "17  ES.CE     84.777\n",
       "18  ES.CE     86.487"
      ]
     },
     "execution_count": 97,
     "metadata": {},
     "output_type": "execute_result"
    }
   ],
   "source": [
    "censo = censo[[\"iso\", \"Total\"]]\n",
    "censo"
   ]
  },
  {
   "cell_type": "code",
   "execution_count": 99,
   "metadata": {
    "collapsed": true,
    "jupyter": {
     "outputs_hidden": true
    }
   },
   "outputs": [
    {
     "data": {
      "text/html": [
       "<div>\n",
       "<style scoped>\n",
       "    .dataframe tbody tr th:only-of-type {\n",
       "        vertical-align: middle;\n",
       "    }\n",
       "\n",
       "    .dataframe tbody tr th {\n",
       "        vertical-align: top;\n",
       "    }\n",
       "\n",
       "    .dataframe thead th {\n",
       "        text-align: right;\n",
       "    }\n",
       "</style>\n",
       "<table border=\"1\" class=\"dataframe\">\n",
       "  <thead>\n",
       "    <tr style=\"text-align: right;\">\n",
       "      <th></th>\n",
       "      <th>Total</th>\n",
       "    </tr>\n",
       "    <tr>\n",
       "      <th>iso</th>\n",
       "      <th></th>\n",
       "    </tr>\n",
       "  </thead>\n",
       "  <tbody>\n",
       "    <tr>\n",
       "      <th>ES.AN</th>\n",
       "      <td>8.414.240</td>\n",
       "    </tr>\n",
       "    <tr>\n",
       "      <th>ES.AR</th>\n",
       "      <td>1.319.291</td>\n",
       "    </tr>\n",
       "    <tr>\n",
       "      <th>ES.AS</th>\n",
       "      <td>1.022.800</td>\n",
       "    </tr>\n",
       "    <tr>\n",
       "      <th>ES.CB</th>\n",
       "      <td>581.078</td>\n",
       "    </tr>\n",
       "    <tr>\n",
       "      <th>ES.CE</th>\n",
       "      <td>84.77786.487</td>\n",
       "    </tr>\n",
       "    <tr>\n",
       "      <th>ES.CL</th>\n",
       "      <td>2.399.548</td>\n",
       "    </tr>\n",
       "    <tr>\n",
       "      <th>ES.CM</th>\n",
       "      <td>2.032.863</td>\n",
       "    </tr>\n",
       "    <tr>\n",
       "      <th>ES.CN</th>\n",
       "      <td>2.153.389</td>\n",
       "    </tr>\n",
       "    <tr>\n",
       "      <th>ES.CT</th>\n",
       "      <td>7.675.217</td>\n",
       "    </tr>\n",
       "    <tr>\n",
       "      <th>ES.EX</th>\n",
       "      <td>1.067.710</td>\n",
       "    </tr>\n",
       "    <tr>\n",
       "      <th>ES.GA</th>\n",
       "      <td>2.699.499</td>\n",
       "    </tr>\n",
       "    <tr>\n",
       "      <th>ES.LR</th>\n",
       "      <td>316.798</td>\n",
       "    </tr>\n",
       "    <tr>\n",
       "      <th>ES.MD</th>\n",
       "      <td>6.663.394</td>\n",
       "    </tr>\n",
       "    <tr>\n",
       "      <th>ES.MU</th>\n",
       "      <td>1.493.898</td>\n",
       "    </tr>\n",
       "    <tr>\n",
       "      <th>ES.NA</th>\n",
       "      <td>654.214</td>\n",
       "    </tr>\n",
       "    <tr>\n",
       "      <th>ES.PM</th>\n",
       "      <td>1.149.460</td>\n",
       "    </tr>\n",
       "    <tr>\n",
       "      <th>ES.PV</th>\n",
       "      <td>2.207.776</td>\n",
       "    </tr>\n",
       "    <tr>\n",
       "      <th>ES.VC</th>\n",
       "      <td>5.003.769</td>\n",
       "    </tr>\n",
       "  </tbody>\n",
       "</table>\n",
       "</div>"
      ],
      "text/plain": [
       "              Total\n",
       "iso                \n",
       "ES.AN     8.414.240\n",
       "ES.AR     1.319.291\n",
       "ES.AS     1.022.800\n",
       "ES.CB       581.078\n",
       "ES.CE  84.77786.487\n",
       "ES.CL     2.399.548\n",
       "ES.CM     2.032.863\n",
       "ES.CN     2.153.389\n",
       "ES.CT     7.675.217\n",
       "ES.EX     1.067.710\n",
       "ES.GA     2.699.499\n",
       "ES.LR       316.798\n",
       "ES.MD     6.663.394\n",
       "ES.MU     1.493.898\n",
       "ES.NA       654.214\n",
       "ES.PM     1.149.460\n",
       "ES.PV     2.207.776\n",
       "ES.VC     5.003.769"
      ]
     },
     "execution_count": 99,
     "metadata": {},
     "output_type": "execute_result"
    }
   ],
   "source": [
    "censo.groupby(\"iso\").sum()"
   ]
  },
  {
   "cell_type": "code",
   "execution_count": 104,
   "metadata": {
    "collapsed": true,
    "jupyter": {
     "outputs_hidden": true
    }
   },
   "outputs": [
    {
     "data": {
      "text/plain": [
       "0     8414240\n",
       "1     1319291\n",
       "2     1022800\n",
       "3     1149460\n",
       "4     2153389\n",
       "5      581078\n",
       "6     2399548\n",
       "7     2032863\n",
       "8     7675217\n",
       "9     5003769\n",
       "10    1067710\n",
       "11    2699499\n",
       "12    6663394\n",
       "13    1493898\n",
       "14     654214\n",
       "15    2207776\n",
       "16     316798\n",
       "17      84777\n",
       "18      86487\n",
       "Name: Total, dtype: int32"
      ]
     },
     "execution_count": 104,
     "metadata": {},
     "output_type": "execute_result"
    }
   ],
   "source": [
    "censo[\"Total\"].apply(lambda num: num.replace(\".\", \"\")).astype(int)"
   ]
  },
  {
   "cell_type": "code",
   "execution_count": 105,
   "metadata": {
    "collapsed": true,
    "jupyter": {
     "outputs_hidden": true
    }
   },
   "outputs": [
    {
     "name": "stderr",
     "output_type": "stream",
     "text": [
      "c:\\users\\pachacho\\miniconda3\\envs\\pycourse\\lib\\site-packages\\ipykernel_launcher.py:1: SettingWithCopyWarning:\n",
      "\n",
      "\n",
      "A value is trying to be set on a copy of a slice from a DataFrame.\n",
      "Try using .loc[row_indexer,col_indexer] = value instead\n",
      "\n",
      "See the caveats in the documentation: https://pandas.pydata.org/pandas-docs/stable/user_guide/indexing.html#returning-a-view-versus-a-copy\n",
      "\n"
     ]
    },
    {
     "data": {
      "text/html": [
       "<div>\n",
       "<style scoped>\n",
       "    .dataframe tbody tr th:only-of-type {\n",
       "        vertical-align: middle;\n",
       "    }\n",
       "\n",
       "    .dataframe tbody tr th {\n",
       "        vertical-align: top;\n",
       "    }\n",
       "\n",
       "    .dataframe thead th {\n",
       "        text-align: right;\n",
       "    }\n",
       "</style>\n",
       "<table border=\"1\" class=\"dataframe\">\n",
       "  <thead>\n",
       "    <tr style=\"text-align: right;\">\n",
       "      <th></th>\n",
       "      <th>Total</th>\n",
       "    </tr>\n",
       "    <tr>\n",
       "      <th>iso</th>\n",
       "      <th></th>\n",
       "    </tr>\n",
       "  </thead>\n",
       "  <tbody>\n",
       "    <tr>\n",
       "      <th>ES.AN</th>\n",
       "      <td>8414240</td>\n",
       "    </tr>\n",
       "    <tr>\n",
       "      <th>ES.AR</th>\n",
       "      <td>1319291</td>\n",
       "    </tr>\n",
       "    <tr>\n",
       "      <th>ES.AS</th>\n",
       "      <td>1022800</td>\n",
       "    </tr>\n",
       "    <tr>\n",
       "      <th>ES.CB</th>\n",
       "      <td>581078</td>\n",
       "    </tr>\n",
       "    <tr>\n",
       "      <th>ES.CE</th>\n",
       "      <td>171264</td>\n",
       "    </tr>\n",
       "    <tr>\n",
       "      <th>ES.CL</th>\n",
       "      <td>2399548</td>\n",
       "    </tr>\n",
       "    <tr>\n",
       "      <th>ES.CM</th>\n",
       "      <td>2032863</td>\n",
       "    </tr>\n",
       "    <tr>\n",
       "      <th>ES.CN</th>\n",
       "      <td>2153389</td>\n",
       "    </tr>\n",
       "    <tr>\n",
       "      <th>ES.CT</th>\n",
       "      <td>7675217</td>\n",
       "    </tr>\n",
       "    <tr>\n",
       "      <th>ES.EX</th>\n",
       "      <td>1067710</td>\n",
       "    </tr>\n",
       "    <tr>\n",
       "      <th>ES.GA</th>\n",
       "      <td>2699499</td>\n",
       "    </tr>\n",
       "    <tr>\n",
       "      <th>ES.LR</th>\n",
       "      <td>316798</td>\n",
       "    </tr>\n",
       "    <tr>\n",
       "      <th>ES.MD</th>\n",
       "      <td>6663394</td>\n",
       "    </tr>\n",
       "    <tr>\n",
       "      <th>ES.MU</th>\n",
       "      <td>1493898</td>\n",
       "    </tr>\n",
       "    <tr>\n",
       "      <th>ES.NA</th>\n",
       "      <td>654214</td>\n",
       "    </tr>\n",
       "    <tr>\n",
       "      <th>ES.PM</th>\n",
       "      <td>1149460</td>\n",
       "    </tr>\n",
       "    <tr>\n",
       "      <th>ES.PV</th>\n",
       "      <td>2207776</td>\n",
       "    </tr>\n",
       "    <tr>\n",
       "      <th>ES.VC</th>\n",
       "      <td>5003769</td>\n",
       "    </tr>\n",
       "  </tbody>\n",
       "</table>\n",
       "</div>"
      ],
      "text/plain": [
       "         Total\n",
       "iso           \n",
       "ES.AN  8414240\n",
       "ES.AR  1319291\n",
       "ES.AS  1022800\n",
       "ES.CB   581078\n",
       "ES.CE   171264\n",
       "ES.CL  2399548\n",
       "ES.CM  2032863\n",
       "ES.CN  2153389\n",
       "ES.CT  7675217\n",
       "ES.EX  1067710\n",
       "ES.GA  2699499\n",
       "ES.LR   316798\n",
       "ES.MD  6663394\n",
       "ES.MU  1493898\n",
       "ES.NA   654214\n",
       "ES.PM  1149460\n",
       "ES.PV  2207776\n",
       "ES.VC  5003769"
      ]
     },
     "execution_count": 105,
     "metadata": {},
     "output_type": "execute_result"
    }
   ],
   "source": [
    "censo[\"Total\"] = censo[\"Total\"].apply(lambda num: num.replace(\".\", \"\")).astype(int)\n",
    "censo = censo.groupby(\"iso\").sum()\n",
    "censo"
   ]
  },
  {
   "cell_type": "code",
   "execution_count": 109,
   "metadata": {},
   "outputs": [
    {
     "name": "stdout",
     "output_type": "stream",
     "text": [
      "Index(['ES.AN', 'ES.AR', 'ES.AS', 'ES.CB', 'ES.CE', 'ES.CL', 'ES.CM', 'ES.CN',\n",
      "       'ES.CT', 'ES.EX', 'ES.GA', 'ES.LR', 'ES.MD', 'ES.MU', 'ES.NA', 'ES.PM',\n",
      "       'ES.PV', 'ES.VC'],\n",
      "      dtype='object', name='iso')\n",
      "Total    int32\n",
      "dtype: object\n"
     ]
    }
   ],
   "source": [
    "print(censo.index)\n",
    "print(censo.dtypes)\n",
    "\n",
    "censo[\"iso\"] = censo.index"
   ]
  },
  {
   "cell_type": "code",
   "execution_count": 110,
   "metadata": {},
   "outputs": [
    {
     "name": "stdout",
     "output_type": "stream",
     "text": [
      "Codigos ISO (censo): (18) ['ES.AN', 'ES.AR', 'ES.AS', 'ES.CB', 'ES.CE', 'ES.CL', 'ES.CM', 'ES.CN', 'ES.CT', 'ES.EX', 'ES.GA', 'ES.LR', 'ES.MD', 'ES.MU', 'ES.NA', 'ES.PM', 'ES.PV', 'ES.VC']\n"
     ]
    }
   ],
   "source": [
    "ls = list(censo[\"iso\"])\n",
    "print(f\"Codigos ISO (censo): ({len(ls)}) {ls}\")"
   ]
  },
  {
   "cell_type": "markdown",
   "metadata": {},
   "source": [
    "---\n",
    "\n",
    "Por último, podemos juntar todos estos datos y hacer un bonito mapa 😍"
   ]
  },
  {
   "cell_type": "code",
   "execution_count": 111,
   "metadata": {},
   "outputs": [
    {
     "data": {
      "text/html": [
       "<div>\n",
       "<style scoped>\n",
       "    .dataframe tbody tr th:only-of-type {\n",
       "        vertical-align: middle;\n",
       "    }\n",
       "\n",
       "    .dataframe tbody tr th {\n",
       "        vertical-align: top;\n",
       "    }\n",
       "\n",
       "    .dataframe thead th {\n",
       "        text-align: right;\n",
       "    }\n",
       "</style>\n",
       "<table border=\"1\" class=\"dataframe\">\n",
       "  <thead>\n",
       "    <tr style=\"text-align: right;\">\n",
       "      <th></th>\n",
       "      <th>Total</th>\n",
       "      <th>iso</th>\n",
       "    </tr>\n",
       "    <tr>\n",
       "      <th>iso</th>\n",
       "      <th></th>\n",
       "      <th></th>\n",
       "    </tr>\n",
       "  </thead>\n",
       "  <tbody>\n",
       "    <tr>\n",
       "      <th>ES.AN</th>\n",
       "      <td>8414240</td>\n",
       "      <td>ES.AN</td>\n",
       "    </tr>\n",
       "    <tr>\n",
       "      <th>ES.AR</th>\n",
       "      <td>1319291</td>\n",
       "      <td>ES.AR</td>\n",
       "    </tr>\n",
       "  </tbody>\n",
       "</table>\n",
       "</div>"
      ],
      "text/plain": [
       "         Total    iso\n",
       "iso                  \n",
       "ES.AN  8414240  ES.AN\n",
       "ES.AR  1319291  ES.AR"
      ]
     },
     "execution_count": 111,
     "metadata": {},
     "output_type": "execute_result"
    }
   ],
   "source": [
    "# datos del censo 2019\n",
    "censo.head(2)"
   ]
  },
  {
   "cell_type": "code",
   "execution_count": 112,
   "metadata": {},
   "outputs": [
    {
     "data": {
      "text/html": [
       "<div>\n",
       "<style scoped>\n",
       "    .dataframe tbody tr th:only-of-type {\n",
       "        vertical-align: middle;\n",
       "    }\n",
       "\n",
       "    .dataframe tbody tr th {\n",
       "        vertical-align: top;\n",
       "    }\n",
       "\n",
       "    .dataframe thead th {\n",
       "        text-align: right;\n",
       "    }\n",
       "</style>\n",
       "<table border=\"1\" class=\"dataframe\">\n",
       "  <thead>\n",
       "    <tr style=\"text-align: right;\">\n",
       "      <th></th>\n",
       "      <th>CCAA Codigo ISO</th>\n",
       "      <th>Fecha</th>\n",
       "      <th>Casos</th>\n",
       "      <th>Hospitalizados</th>\n",
       "      <th>UCI</th>\n",
       "      <th>Fallecidos</th>\n",
       "    </tr>\n",
       "  </thead>\n",
       "  <tbody>\n",
       "    <tr>\n",
       "      <th>0</th>\n",
       "      <td>ES.AN</td>\n",
       "      <td>2020-02-20</td>\n",
       "      <td>NaN</td>\n",
       "      <td>NaN</td>\n",
       "      <td>NaN</td>\n",
       "      <td>NaN</td>\n",
       "    </tr>\n",
       "    <tr>\n",
       "      <th>1</th>\n",
       "      <td>ES.AR</td>\n",
       "      <td>2020-02-20</td>\n",
       "      <td>NaN</td>\n",
       "      <td>NaN</td>\n",
       "      <td>NaN</td>\n",
       "      <td>NaN</td>\n",
       "    </tr>\n",
       "  </tbody>\n",
       "</table>\n",
       "</div>"
      ],
      "text/plain": [
       "  CCAA Codigo ISO      Fecha  Casos   Hospitalizados  UCI  Fallecidos\n",
       "0           ES.AN 2020-02-20     NaN             NaN  NaN         NaN\n",
       "1           ES.AR 2020-02-20     NaN             NaN  NaN         NaN"
      ]
     },
     "execution_count": 112,
     "metadata": {},
     "output_type": "execute_result"
    }
   ],
   "source": [
    "# serie temporal COVID19\n",
    "df.head(2)"
   ]
  },
  {
   "cell_type": "code",
   "execution_count": 114,
   "metadata": {},
   "outputs": [
    {
     "data": {
      "text/plain": [
       "dict_keys(['type', 'transform', 'arcs', 'objects'])"
      ]
     },
     "execution_count": 114,
     "metadata": {},
     "output_type": "execute_result"
    }
   ],
   "source": [
    "# mapa spain\n",
    "ccaa.keys()"
   ]
  },
  {
   "cell_type": "markdown",
   "metadata": {},
   "source": [
    "**Primero**, crearemos un mapa estático de la población por comunidades. Y **segundo**, crearemos una animación que permita visualizar la serie temporal."
   ]
  },
  {
   "cell_type": "code",
   "execution_count": null,
   "metadata": {},
   "outputs": [],
   "source": [
    "import plotly.express as px\n",
    "\n"
   ]
  },
  {
   "cell_type": "code",
   "execution_count": 17,
   "metadata": {},
   "outputs": [
    {
     "data": {
      "text/plain": [
       "665    NOTA: El objetivo de los datos que se publican...\n",
       "Name: CCAA Codigo ISO, dtype: object"
      ]
     },
     "execution_count": 17,
     "metadata": {},
     "output_type": "execute_result"
    }
   ],
   "source": [
    "x = df.iloc[665:666, 0]\n",
    "x"
   ]
  },
  {
   "cell_type": "code",
   "execution_count": 33,
   "metadata": {},
   "outputs": [
    {
     "data": {
      "text/plain": [
       "'NOTA: El objetivo de los datos que se publican en esta web es saber el n�mero de casos acumulados a la fecha y que por tanto no se puede deducir que la diferencia entre un d�a y el anterior es el n�mero de casos nuevos ya que esos casos pueden haber sido recuperados de fechas anteriores. Cualquier inferencia que se haga sobre las diferencias de un d�a para otro deben hacerse con precauci�n y son �nicamente la responsabilidad el autor.'"
      ]
     },
     "execution_count": 33,
     "metadata": {},
     "output_type": "execute_result"
    }
   ],
   "source": [
    "x.to_dict()[665]"
   ]
  },
  {
   "cell_type": "markdown",
   "metadata": {},
   "source": [
    "---\n",
    "\n",
    "## ¿Más dudas?\n",
    "\n",
    "Puedes encontrarnos por\n",
    "\n",
    "+ Twitter: en @AIMalaga, @AIMatesanz (Andrés) y @josocjoq (Joaquín)\n",
    "+ Telegram: en nuestro grupo https://t.me/MalagaSchoolOfAI\n",
    "> Ojito! Este es el grupo de MálagaAI. Si perteneces a otra ciudad, quizás te interesa [encontrar tu comunidad local](https://www.spain-ai.com/). Si quieres crear una comunidad [contacta con SpainAI en Twitter](https://twitter.com/Spain_AI_).\n",
    "+ Linkedin: [Spain AI](https://www.linkedin.com/company/spainai/)"
   ]
  },
  {
   "cell_type": "markdown",
   "metadata": {},
   "source": [
    "---\n",
    "\n",
    "Licencia: Andrés Matesanz y Joaquín Terrasa, MalagaAI [CC BY-NC 4.0](https://creativecommons.org/licenses/by-nc/4.0/) 2020\n",
    "\n",
    "<img src=\"https://upload.wikimedia.org/wikipedia/commons/thumb/a/a3/Cc.logo.circle.svg/64px-Cc.logo.circle.svg.png\" width=\"1%\"/><img src=\"https://upload.wikimedia.org/wikipedia/commons/thumb/3/3c/Cc-by_new.svg/80px-Cc-by_new.svg.png\" width=\"1%\"/><img src=\"https://upload.wikimedia.org/wikipedia/commons/thumb/d/db/Cc-nc.svg/64px-Cc-nc.svg.png\" width=\"1%\"/>"
   ]
  }
 ],
 "metadata": {
  "kernelspec": {
   "display_name": "Python 3",
   "language": "python",
   "name": "python3"
  },
  "language_info": {
   "codemirror_mode": {
    "name": "ipython",
    "version": 3
   },
   "file_extension": ".py",
   "mimetype": "text/x-python",
   "name": "python",
   "nbconvert_exporter": "python",
   "pygments_lexer": "ipython3",
   "version": "3.7.6"
  }
 },
 "nbformat": 4,
 "nbformat_minor": 4
}
